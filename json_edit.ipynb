{
 "cells": [
  {
   "cell_type": "code",
   "execution_count": 6,
   "metadata": {},
   "outputs": [],
   "source": [
    "import json\n",
    "import os\n",
    "\n",
    "path = './json/'\n",
    "origin_files = os.listdir(path)[0:]\n",
    "origin_files_list = [file for file in origin_files if file.endswith('.json')]\n",
    "\n",
    "for f in origin_files:\n",
    "    base_name = str(f[:-5])\n",
    "    with open(path+f,'rb') as infile:\n",
    "        json_infile = json.load(infile)  \n",
    "        annotations = json_infile['annotations']\n",
    "        imgname = json_infile['img_filename']\n",
    "        imgres = json_infile['img_resolution']\n",
    "        pcdname = json_infile['pcd_filename']\n",
    "        \n",
    "    with open(path+f,'w') as outfile:\n",
    "        json.dump(({'annotations':annotations, 'img_filename':base_name +'.jpg', 'img_resolution':imgres,'pcd_filename':base_name + '.pcd'}),outfile,ensure_ascii=False, indent=4)\n"
   ]
  },
  {
   "cell_type": "code",
   "execution_count": null,
   "metadata": {},
   "outputs": [],
   "source": [
    "json_infile.keys()"
   ]
  },
  {
   "cell_type": "code",
   "execution_count": null,
   "metadata": {},
   "outputs": [],
   "source": [
    "import json\n",
    "with open('./merged_json.json', \"r\", encoding='utf-8') as f:\n",
    "    contents=f.read()\n",
    "    json_data=json.loads(contents)\n",
    "\n",
    "print(json_data)"
   ]
  }
 ],
 "metadata": {
  "kernelspec": {
   "display_name": "Python 3.10.0 64-bit",
   "language": "python",
   "name": "python3"
  },
  "language_info": {
   "codemirror_mode": {
    "name": "ipython",
    "version": 3
   },
   "file_extension": ".py",
   "mimetype": "text/x-python",
   "name": "python",
   "nbconvert_exporter": "python",
   "pygments_lexer": "ipython3",
   "version": "3.10.0"
  },
  "orig_nbformat": 4,
  "vscode": {
   "interpreter": {
    "hash": "fb4569285eef3a3450cb62085a5b1e0da4bce0af555edc33dcf29baf3acc1368"
   }
  }
 },
 "nbformat": 4,
 "nbformat_minor": 2
}
