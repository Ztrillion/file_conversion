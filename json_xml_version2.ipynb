{
 "cells": [
  {
   "cell_type": "code",
   "execution_count": 65,
   "metadata": {},
   "outputs": [],
   "source": [
    "import json\n",
    "import os\n",
    "import numpy as np\n",
    "import xml.etree.ElementTree as ET\n",
    "\n",
    "\n",
    "for idx, (root, dirs, files) in enumerate(os.walk('json_test')):\n",
    "    Imagelist = [Image for Image in files if Image.lower().endswith(\".png\")]\n",
    "    Jsonlist = [Json for Json in files if Json.lower().endswith(\".json\")]\n",
    "    \n",
    "    for num in range(len(Imagelist)):\n",
    "        Image = Imagelist[num]\n",
    "        Json = Jsonlist[num]\n",
    "         \n",
    "        with open(os.path.join(root, Json),\"rb\") as jsonFile:\n",
    "            Objects = json.load(jsonFile)\n",
    "        \n",
    "            # makeXml     \n",
    "            xml_root = ET.Element('annotation')\n",
    "            ET.SubElement(xml_root, 'folder').text = root\n",
    "            ET.SubElement(xml_root, 'filename').text = Image\n",
    "            ET.SubElement(xml_root, 'path').text = os.path.join(os.getcwd(), root, Image)\n",
    "                \n",
    "                \n",
    "                        \n",
    "            source = ET.SubElement(xml_root, 'source')\n",
    "            ET.SubElement(source, 'database').text = 'Unknown'\n",
    "                        \n",
    "                        \n",
    "            size = ET.SubElement(xml_root, 'size')\n",
    "            ET.SubElement(size, 'width').text = str(1920)\n",
    "            ET.SubElement(size, 'height').text = str(1200)\n",
    "            ET.SubElement(size, 'depth').text = str(3)\n",
    "                            \n",
    "            ET.SubElement(xml_root, 'segmented').text = '0'\n",
    "                        \n",
    "                        #xmin, ymin, xmax, ymax\n",
    "            total_object = len(Objects['annotations'])\n",
    "            #object = ET.SubElement(xml_root, 'object')\n",
    "            for object_idx in range(total_object):\n",
    "                c_object = ET.SubElement(xml_root, 'object')\n",
    "                \n",
    "                if  'categories' in Objects.keys() :            \n",
    "                    ET.SubElement(c_object, 'name').text = Objects['categories'][object_idx]['name']\n",
    "                else : pass\n",
    "                ET.SubElement(c_object, 'pose').text = 'Unspectified'\n",
    "                ET.SubElement(c_object, 'truncated').text = '0'\n",
    "                ET.SubElement(c_object, 'difficult').text = '0'\n",
    " \n",
    "                anno = Objects[\"annotations\"][object_idx]\n",
    "                 \n",
    "                if  'bbox' not in anno.keys() :\n",
    "                    pass\n",
    "                \n",
    "                else : \n",
    "                    points = Objects['annotations'][object_idx]['bbox']\n",
    "                    npoints = np.array(points)    \n",
    "                    rpoints = np.reshape(npoints,-1)\n",
    "                        \n",
    "                    \n",
    "                    x = rpoints[0]\n",
    "                    y = rpoints[1]\n",
    "                                        \n",
    "                    x_min = x\n",
    "                    x_max = x + rpoints[2]\n",
    "                                        \n",
    "                    y_min = y\n",
    "                    y_max = y + rpoints[3]          \n",
    "                        \n",
    "                \n",
    "                    bbox = ET.SubElement(c_object, 'bnbox')\n",
    "                    ET.SubElement(bbox, 'xmin').text = str(x_min)\n",
    "                    ET.SubElement(bbox, 'ymin').text = str(y_min)\n",
    "                    ET.SubElement(bbox, 'xmax').text = str(x_max)\n",
    "                    ET.SubElement(bbox, 'ymax').text = str(y_max)\n",
    "                \n",
    "        tree = ET.ElementTree(xml_root)\n",
    "        tree.write(os.path.join(os.getcwd(), root, Image[:-4] + '.xml'))  \n",
    "        "
   ]
  },
  {
   "cell_type": "code",
   "execution_count": 18,
   "metadata": {},
   "outputs": [
    {
     "data": {
      "text/plain": [
       "[[927.85009765625, 549.7374267578125, 54.16516113281251, 41.29193115234375]]"
      ]
     },
     "execution_count": 18,
     "metadata": {},
     "output_type": "execute_result"
    }
   ],
   "source": [
    "points"
   ]
  },
  {
   "cell_type": "code",
   "execution_count": 58,
   "metadata": {},
   "outputs": [
    {
     "ename": "TypeError",
     "evalue": "'dict' object is not callable",
     "output_type": "error",
     "traceback": [
      "\u001b[1;31m---------------------------------------------------------------------------\u001b[0m",
      "\u001b[1;31mTypeError\u001b[0m                                 Traceback (most recent call last)",
      "\u001b[1;32m~\\AppData\\Local\\Temp/ipykernel_12068/3280085121.py\u001b[0m in \u001b[0;36m<module>\u001b[1;34m\u001b[0m\n\u001b[0;32m      1\u001b[0m \u001b[0manno\u001b[0m \u001b[1;33m=\u001b[0m \u001b[0mObjects\u001b[0m\u001b[1;33m[\u001b[0m\u001b[1;34m\"annotations\"\u001b[0m\u001b[1;33m]\u001b[0m\u001b[1;33m[\u001b[0m\u001b[1;36m0\u001b[0m\u001b[1;33m]\u001b[0m\u001b[1;33m\u001b[0m\u001b[1;33m\u001b[0m\u001b[0m\n\u001b[1;32m----> 2\u001b[1;33m \u001b[0manno\u001b[0m\u001b[1;33m(\u001b[0m\u001b[1;34m'bbox'\u001b[0m\u001b[1;33m)\u001b[0m\u001b[1;33m\u001b[0m\u001b[1;33m\u001b[0m\u001b[0m\n\u001b[0m",
      "\u001b[1;31mTypeError\u001b[0m: 'dict' object is not callable"
     ]
    }
   ],
   "source": [
    "anno = Objects[\"annotations\"][0]\n",
    "anno('bbox')"
   ]
  },
  {
   "cell_type": "code",
   "execution_count": 20,
   "metadata": {},
   "outputs": [
    {
     "ename": "TypeError",
     "evalue": "keys() takes no arguments (1 given)",
     "output_type": "error",
     "traceback": [
      "\u001b[1;31m---------------------------------------------------------------------------\u001b[0m",
      "\u001b[1;31mTypeError\u001b[0m                                 Traceback (most recent call last)",
      "\u001b[1;32m~\\AppData\\Local\\Temp/ipykernel_12068/1530677714.py\u001b[0m in \u001b[0;36m<module>\u001b[1;34m\u001b[0m\n\u001b[1;32m----> 1\u001b[1;33m \u001b[0men\u001b[0m \u001b[1;33m=\u001b[0m \u001b[0manno\u001b[0m\u001b[1;33m.\u001b[0m\u001b[0mkeys\u001b[0m\u001b[1;33m(\u001b[0m\u001b[1;34m'bbox'\u001b[0m\u001b[1;33m)\u001b[0m\u001b[1;33m\u001b[0m\u001b[1;33m\u001b[0m\u001b[0m\n\u001b[0m",
      "\u001b[1;31mTypeError\u001b[0m: keys() takes no arguments (1 given)"
     ]
    }
   ],
   "source": [
    "en = anno.keys()\n"
   ]
  },
  {
   "cell_type": "code",
   "execution_count": null,
   "metadata": {},
   "outputs": [],
   "source": [
    "import json\n",
    "import os\n",
    "import numpy as np\n",
    "from xml.etree.ElementTree import Element, dump\n",
    "import xml.etree.ElementTree as ET\n",
    "\n",
    "\n",
    "for idx, (root, dirs, files) in enumerate(os.walk('test_data')):\n",
    "    Imagelist = [Image for Image in files if Image.lower().endswith(\".png\")]\n",
    "    Jsonlist = [Json for Json in files if Json.lower().endswith(\".json\")]\n",
    "    \n",
    "    for num in range(len(Imagelist)):\n",
    "        Image = Imagelist[num]\n",
    "        Json = Jsonlist[num]\n",
    "         \n",
    "        with open(os.path.join(root, Json),'r',encoding='utf-8') as jsonFile:\n",
    "            json_file = json.load(jsonFile)\n",
    "\n",
    "            \n",
    "            # makeXml     \n",
    "            xml_root = ET.Element('annotation')\n",
    "            \n",
    "            ET.SubElement(xml_root, 'folder').text = root\n",
    "            ET.SubElement(xml_root, 'filename').text = Image\n",
    "            ET.SubElement(xml_root, 'path').text = os.path.join(os.getcwd(), root, Image)\n",
    "    \n",
    "            source = ET.SubElement(xml_root, 'source')\n",
    "            ET.SubElement(source, 'database').text = 'Unknown'\n",
    "                \n",
    "            #height, width, depth = cv2.imread(os.path.join(root, Image)).shape\n",
    "            size = ET.SubElement(xml_root, 'size')\n",
    "            ET.SubElement(size, 'width').text = str(1920)\n",
    "            ET.SubElement(size, 'height').text = str(1080)\n",
    "            ET.SubElement(size, 'depth').text = str(3)\n",
    "            ET.SubElement(xml_root, 'segmented').text = '0'\n",
    "                \n",
    "            cate_root = ET.SubElement(xml_root,'object')\n",
    "            #Name = ET.SubElement(cate_root,'name')\n",
    "        # project = e.SubElement(r,\"Projects\")      \n",
    "            \n",
    "            for z in json_file[\"categories\"]:\n",
    "                cate_root = ET.SubElement(xml_root,'object')    \n",
    "                ET.SubElement(cate_root, \"name\").text = z[\"name\"]\n",
    "                ET.SubElement(cate_root, 'pose').text = 'Unspectified'\n",
    "                ET.SubElement(cate_root, 'truncated').text = '0'\n",
    "                ET.SubElement(cate_root, 'difficult').text = '0'\n",
    "            \n",
    "            \n",
    "            for k in json_file[\"annotations\"]:\n",
    "                if k[\"bbox\"] in json_file[\"annotations\"]:  \n",
    "                    points = k[\"bbox\"]\n",
    "                    npoints = np.array([points])\n",
    "                    rpoints = np.reshape(npoints,-1)\n",
    "                        \n",
    "                    \n",
    "                    x = rpoints[0]\n",
    "                    y = rpoints[1]\n",
    "                                        \n",
    "                    x_min = x\n",
    "                    x_max = x + rpoints[2]\n",
    "                                        \n",
    "                    y_min = y\n",
    "                    y_max = y + rpoints[3]          \n",
    "                \n",
    "                  \n",
    "                    bbox = ET.SubElement(cate_root, 'bbox')\n",
    "                    ET.SubElement(bbox, 'xmin').text = str(x_min)\n",
    "                    ET.SubElement(bbox, 'ymin').text = str(y_min)\n",
    "                    ET.SubElement(bbox, 'xmax').text = str(x_max)\n",
    "                    ET.SubElement(bbox, 'ymax').text = str(y_max)\n",
    "                else : pass \n",
    "        tree = ET.ElementTree(xml_root)\n",
    "        tree.write(os.path.join(os.getcwd(), root,Image[:-4] + '.xml'))"
   ]
  },
  {
   "cell_type": "code",
   "execution_count": null,
   "metadata": {},
   "outputs": [],
   "source": [
    "z"
   ]
  },
  {
   "cell_type": "code",
   "execution_count": null,
   "metadata": {},
   "outputs": [],
   "source": [
    "k"
   ]
  },
  {
   "cell_type": "code",
   "execution_count": null,
   "metadata": {},
   "outputs": [],
   "source": []
  },
  {
   "cell_type": "code",
   "execution_count": null,
   "metadata": {},
   "outputs": [],
   "source": [
    "json_file = json_file.replace('','')\n"
   ]
  },
  {
   "cell_type": "code",
   "execution_count": null,
   "metadata": {},
   "outputs": [],
   "source": [
    "json_file"
   ]
  },
  {
   "cell_type": "code",
   "execution_count": null,
   "metadata": {},
   "outputs": [],
   "source": []
  }
 ],
 "metadata": {
  "interpreter": {
   "hash": "f23faf4bfe871c203c8bec80520af5927fc7cb1ae3bd834ddf554ee587ad1c05"
  },
  "kernelspec": {
   "display_name": "Python 3 (ipykernel)",
   "language": "python",
   "name": "python3"
  },
  "language_info": {
   "codemirror_mode": {
    "name": "ipython",
    "version": 3
   },
   "file_extension": ".py",
   "mimetype": "text/x-python",
   "name": "python",
   "nbconvert_exporter": "python",
   "pygments_lexer": "ipython3",
   "version": "3.8.10"
  }
 },
 "nbformat": 4,
 "nbformat_minor": 4
}
