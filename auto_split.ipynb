{
 "cells": [
  {
   "cell_type": "code",
   "execution_count": null,
   "metadata": {},
   "outputs": [],
   "source": [
    "from glob import glob\n",
    "import shutil\n",
    "import os\n",
    "data = ['Training','Validation','Test']\n",
    "\n",
    "for i in data:\n",
    "    source = './data/IMAGE/' + i+'/'\n",
    "    images = './data/IMAGE/' + i\n",
    "    lidars = './data/LiDAR/' + i\n",
    "    #jsons = './data/LiDAR/' + i\n",
    "    \n",
    "    extention_ex = {\n",
    "        images = ['jpg','jpeg','png','jpeg'],\n",
    "        lidars = ['pcd']\n",
    "    #    jsons = ['json']}\n",
    "    \n",
    "    for destination, extensions in extention_ex.item():\n",
    "        for ext in extensions:\n",
    "            for file in glob(source + '*.'+ext):\n",
    "                shutil.move(file, os.path.join(destination,file.split('/')[-1]))\n",
    "     "
   ]
  }
 ],
 "metadata": {
  "language_info": {
   "name": "python"
  },
  "orig_nbformat": 4
 },
 "nbformat": 4,
 "nbformat_minor": 2
}
