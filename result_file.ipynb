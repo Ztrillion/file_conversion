{
 "cells": [
  {
   "cell_type": "code",
   "execution_count": 1,
   "id": "89956eea",
   "metadata": {},
   "outputs": [
    {
     "name": "stdout",
     "output_type": "stream",
     "text": [
      "annotation file : 84067\n",
      "image file : 84067\n"
     ]
    }
   ],
   "source": [
    "import os\n",
    "path = 'D:/modeling_datasets/datasets/train'\n",
    "annotations = []\n",
    "imgs = []\n",
    "for root,dirs,files in os.walk(path):\n",
    "    for file in files:\n",
    "        if '.txt' in file :\n",
    "            annotations.append(root+'/'+file)\n",
    "        elif '.jpg' in file:\n",
    "            imgs.append(root+'/'+file)\n",
    "print(f'annotation file : {len(annotations)}')\n",
    "print(f'image file : {len(imgs)}')"
   ]
  },
  {
   "cell_type": "code",
   "execution_count": 3,
   "id": "350dad39",
   "metadata": {},
   "outputs": [],
   "source": [
    "delete_label = ['85','113','87','46','69','44','108','53','107','51','81','110']\n",
    "# small_class = ['42','80','55','81','28','6','76','39','92','86','18','10','11','70','65','32','4','41','115','45','106',\n",
    "#                '101','25','48','3','47','102','95','90','77','27','73','72','64','24','114','33','49','109','58','26',\n",
    "#                '111','31','62','112','67','78','36','68','13','12','7','29','2','54','0','100','9','61','88','16','15',\n",
    "#                '1','116','96','38','21','75','35','8','40','20','98','17','79','22','14','84','37','94','52','5','99','19',\n",
    "#                '23','43']"
   ]
  },
  {
   "cell_type": "code",
   "execution_count": null,
   "id": "3dc5af55",
   "metadata": {},
   "outputs": [],
   "source": [
    "import os\n",
    "from collections import defaultdict\n",
    "\n",
    "# Define your input and output directories\n",
    "input_dir = 'D:/datasets/'\n",
    "output_dir = 'D:/modeling_datasets/datasets/train/labels/'\n",
    "\n",
    "if not os.path.exists(output_dir):\n",
    "    os.makedirs(output_dir)\n",
    "\n",
    "# Limit the number of samples per class\n",
    "max_samples_per_class = 3000\n",
    "\n",
    "# Count the number of samples for each class\n",
    "class_counts = defaultdict(int)\n",
    "\n",
    "# Process each annotation file\n",
    "for filename in os.walk(input_dir):\n",
    "    if filename.endswith('.txt'):\n",
    "        with open(os.path.join(input_dir, filename), 'r') as infile:\n",
    "            lines = infile.readlines()\n",
    "\n",
    "        # Check if the samples for each class are within the limit\n",
    "        processed_lines = []\n",
    "        for line in lines:\n",
    "            class_id, x_center, y_center, width, height = line.strip().split()\n",
    "            class_id = int(class_id)\n",
    "\n",
    "            if class_counts[class_id] < max_samples_per_class:\n",
    "                processed_lines.append(line)\n",
    "                class_counts[class_id] += 1\n",
    "\n",
    "        # Write the preprocessed annotation to the output directory\n",
    "        if processed_lines:\n",
    "            with open(os.path.join(output_dir, filename), 'w') as outfile:\n",
    "                outfile.writelines(processed_lines)"
   ]
  },
  {
   "cell_type": "code",
   "execution_count": 4,
   "id": "36c62a45",
   "metadata": {},
   "outputs": [
    {
     "name": "stderr",
     "output_type": "stream",
     "text": [
      "100%|██████████████████████████████████████████████████████████████████████████| 84067/84067 [01:01<00:00, 1370.66it/s]\n"
     ]
    }
   ],
   "source": [
    "from tqdm import tqdm\n",
    "import shutil\n",
    "\n",
    "a = 0\n",
    "b = 0\n",
    "c = 0\n",
    "d = 0\n",
    "e = 0\n",
    "f2 = 0\n",
    "g = 0\n",
    "h = 0\n",
    "i = 0\n",
    "j = 0\n",
    "k = 0\n",
    "m = 0\n",
    "\n",
    "for file in tqdm(annotations):\n",
    "\n",
    "    with open(file,'r',encoding='UTF-8') as f :  \n",
    "        linelist = ''\n",
    "        lines = f.readlines()\n",
    "      \n",
    "        for line in lines:\n",
    "            if line.split(' ')[0] == '85':\n",
    "                a += 1\n",
    "                if a <= 3500:\n",
    "                    linelist += line\n",
    "                else : pass\n",
    "            \n",
    "            elif line.split(' ')[0] == '113':\n",
    "                b += 1\n",
    "                if b <= 3500:\n",
    "                    linelist += line\n",
    "                else : pass\n",
    "\n",
    "            elif line.split(' ')[0] == '87':\n",
    "                c += 1\n",
    "                if c <= 3500:\n",
    "                    linelist += line\n",
    "                else : pass\n",
    "\n",
    "            elif line.split(' ')[0] == '46':\n",
    "                d += 1\n",
    "                if d <= 3500:\n",
    "                    linelist += line\n",
    "                else : pass\n",
    "\n",
    "            elif line.split(' ')[0] == '69':\n",
    "                e += 1\n",
    "                if e <= 3500:\n",
    "                    linelist += line\n",
    "                else : pass\n",
    "\n",
    "            elif line.split(' ')[0] == '44':\n",
    "                f2 += 1\n",
    "                if f2 <= 3500:\n",
    "                    linelist += line\n",
    "                else : pass\n",
    "\n",
    "            elif line.split(' ')[0] == '108':\n",
    "                g += 1\n",
    "                if g <= 3500:\n",
    "                    linelist += line\n",
    "                else : pass\n",
    "            \n",
    "            elif line.split(' ')[0] == '53':\n",
    "                h += 1\n",
    "                if h <= 3500:\n",
    "                    linelist += line\n",
    "                else : pass\n",
    "            \n",
    "            elif line.split(' ')[0] == '107':\n",
    "                i += 1\n",
    "                if i <= 3500:\n",
    "                    linelist += line\n",
    "                else : pass\n",
    "            \n",
    "            elif line.split(' ')[0] == '51':\n",
    "                j += 1\n",
    "                if j <= 3500:\n",
    "                    linelist += line\n",
    "                else : pass\n",
    "                \n",
    "            elif line.split(' ')[0] == '81':\n",
    "                k += 1\n",
    "                if k <= 3500:\n",
    "                    linelist += line\n",
    "                else : pass                \n",
    "            \n",
    "#             elif line.split(' ')[0] == '60':\n",
    "#                 l += 1\n",
    "#                 if l <= 3500:\n",
    "#                     linelist += line\n",
    "#                 else : pass  \n",
    "                \n",
    "            elif line.split(' ')[0] == '110':\n",
    "                m += 1\n",
    "                if m <= 3500:\n",
    "                    linelist += line\n",
    "                else : pass\n",
    "                \n",
    "            else :  linelist += line \n",
    "                \n",
    "    if len(linelist) > 0: \n",
    "        with open('D:/modeling_datasets/datasets/valid/labels/'+os.path.basename(file),'w',encoding='UTF-8') as f:\n",
    "            f.write(linelist)\n",
    "            \n",
    "        shutil.move('D:/modeling_datasets/datasets/train/images/'+os.path.basename(file)[:-4]+'.jpg','D:/modeling_datasets/datasets/valid/images/'+os.path.basename(file)[:-4]+'.jpg')\n",
    "    else: pass"
   ]
  },
  {
   "cell_type": "code",
   "execution_count": 8,
   "id": "e29d5ded",
   "metadata": {},
   "outputs": [
    {
     "name": "stdout",
     "output_type": "stream",
     "text": [
      "annotation file : 72083\n",
      "image file : 19182\n"
     ]
    }
   ],
   "source": [
    "import os\n",
    "img_path = 'D:/modeling_datasets/datasets/test'\n",
    "imgs = []\n",
    "anno_path = 'D:/modeling_datasets/datasets/train'\n",
    "annotations = []\n",
    "for root,dirs,files in os.walk(img_path):\n",
    "    for file in files:\n",
    "        if '.jpg' in file:\n",
    "            imgs.append(root+'/'+file)\n",
    "            \n",
    "for root,dirs,files in os.walk(anno_path):\n",
    "    for file in files:\n",
    "        if '.txt' in file:\n",
    "            annotations.append(root+'/'+file)\n",
    "print(f'annotation file : {len(annotations)}')\n",
    "print(f'image file : {len(imgs)}')"
   ]
  },
  {
   "cell_type": "code",
   "execution_count": 14,
   "id": "743cce29",
   "metadata": {},
   "outputs": [
    {
     "name": "stderr",
     "output_type": "stream",
     "text": [
      "100%|██████████████████████████████████████████████████████████████████████████| 72083/72083 [00:07<00:00, 9099.45it/s]\n"
     ]
    }
   ],
   "source": [
    "a = 0\n",
    "\n",
    "for anno in tqdm(annotations):\n",
    "    if os.path.basename(anno)[:-4] == os.path.basename(imgs[a])[:-4]:\n",
    "        shutil.move(anno,'D:/modeling_datasets/datasets/test/labels/'+os.path.basename(anno) )\n",
    "     \n",
    "        a+=1\n",
    "    else : \n",
    "        pass\n",
    "    "
   ]
  },
  {
   "cell_type": "code",
   "execution_count": 6,
   "id": "083a0e06",
   "metadata": {},
   "outputs": [
    {
     "name": "stderr",
     "output_type": "stream",
     "text": [
      "100%|██████████████████████████████████████████████████████████████████████████| 19182/19182 [00:07<00:00, 2705.21it/s]\n"
     ]
    }
   ],
   "source": [
    "for img in tqdm(imgs):\n",
    "    shutil.move(img,'D:/modeling_datasets/datasets/test/labels/'+os.path.basename(img))"
   ]
  },
  {
   "cell_type": "code",
   "execution_count": null,
   "id": "157a1177",
   "metadata": {},
   "outputs": [],
   "source": [
    "with open(annotations[100],'r',encoding='UTF-8') as t:\n",
    "    \n",
    "    line = t.readlines()\n",
    "    line = line.replace('\\t',' ')\n",
    "       \n",
    "\n",
    "    print(line)\n",
    "        "
   ]
  },
  {
   "cell_type": "code",
   "execution_count": null,
   "id": "0a87442e",
   "metadata": {},
   "outputs": [],
   "source": [
    "line"
   ]
  },
  {
   "cell_type": "code",
   "execution_count": null,
   "id": "d61520fc",
   "metadata": {},
   "outputs": [],
   "source": [
    "from tqdm import tqdm\n",
    "for file in tqdm(annotations):\n",
    "    new_text_content = ''\n",
    "\n",
    "    with open(file,'r',encoding='UTF-8') as f :\n",
    "        lines = f.readlines()\n",
    "        for idx, line in enumerate(lines):\n",
    "            new_string = line.strip().replace(\"\\t\",\" \")\n",
    "            if new_string:\n",
    "                new_text_content += new_string + '\\n'\n",
    "            else :\n",
    "                new_text_content += '\\n'\n",
    "        \n",
    "    with open(file,'w',encoding='UTF-8') as f:\n",
    "        f.write(new_text_content)"
   ]
  }
 ],
 "metadata": {
  "kernelspec": {
   "display_name": "Python 3 (ipykernel)",
   "language": "python",
   "name": "python3"
  },
  "language_info": {
   "codemirror_mode": {
    "name": "ipython",
    "version": 3
   },
   "file_extension": ".py",
   "mimetype": "text/x-python",
   "name": "python",
   "nbconvert_exporter": "python",
   "pygments_lexer": "ipython3",
   "version": "3.8.16"
  }
 },
 "nbformat": 4,
 "nbformat_minor": 5
}
