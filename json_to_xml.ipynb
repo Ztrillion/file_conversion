{
 "cells": [
  {
   "cell_type": "code",
   "execution_count": 1,
   "metadata": {},
   "outputs": [],
   "source": [
    "import json\n",
    "import os\n",
    "import numpy as np\n",
    "import xml.etree.ElementTree as ET\n",
    "import lxml.etree as etree\n",
    "import xmltodict\n",
    "\n",
    "for idx, (root, dirs, files) in enumerate(os.walk('images')):\n",
    "    Imagelist = [Image for Image in files if Image.lower().endswith(\".png\")]\n",
    "    Jsonlist = [Json for Json in files if Json.lower().endswith(\".json\")]\n",
    "    \n",
    "    for num in range(len(Imagelist)):\n",
    "        Image = Imagelist[num]\n",
    "        Json = Jsonlist[num]\n",
    "         \n",
    "        with open(os.path.join(root, Json),\"rb\") as jsonFile:\n",
    "            Objects = json.load(jsonFile)\n",
    "\n",
    "            # makeXml     \n",
    "            xml_root = ET.Element('annotation')\n",
    "            ET.SubElement(xml_root, 'folder').text = root\n",
    "            ET.SubElement(xml_root, 'filename').text = Image\n",
    "            ET.SubElement(xml_root, 'path').text = os.path.join(os.getcwd(), root, Image)\n",
    "                \n",
    "                \n",
    "                        \n",
    "            source = ET.SubElement(xml_root, 'source')\n",
    "            ET.SubElement(source, 'database').text = 'Unknown'\n",
    "                        \n",
    "                        \n",
    "            size = ET.SubElement(xml_root, 'size')\n",
    "            ET.SubElement(size, 'width').text = str(1920)\n",
    "            ET.SubElement(size, 'height').text = str(1200)\n",
    "            ET.SubElement(size, 'depth').text = str(3)\n",
    "                            \n",
    "            ET.SubElement(xml_root, 'segmented').text = '0'\n",
    "                        \n",
    "                        #xmin, ymin, xmax, ymax\n",
    "            total_object = len(Objects['annotations'])\n",
    "            #object = ET.SubElement(xml_root, 'object')\n",
    "            \n",
    "            for object_idx in range(total_object):\n",
    "                \n",
    "                anno = Objects[\"annotations\"][object_idx]\n",
    "                \n",
    "                c_object = ET.SubElement(xml_root, 'object')\n",
    "                \n",
    "                if 'label' not in anno.keys():\n",
    "                   pass\n",
    "                \n",
    "                elif anno['label'] == '자동차_일반자동차' or '자동차_SUV' or '자동차_특수차량' or '자동차_기타자동차':\n",
    "                    ET.SubElement(c_object, 'name').text = 'car'\n",
    "       \n",
    "                elif anno['label'] == '자동차_버스':\n",
    "                    ET.SubElement(c_object, 'name').text = 'bus'\n",
    "                        \n",
    "                elif anno['label'] == '자동차_트럭':\n",
    "                    ET.SubElement(c_object, 'name').text = 'truck'\n",
    "                         \n",
    "                elif anno['label'] == '이륜차_이륜차' or '이륜차_사륜차' or '이륜차_전동휠' or '이륜차_PM(교통약자 이동장치)' or '이륜차_기타' or '보행자_자전거':\n",
    "                    ET.SubElement(c_object, 'name').text = '2wheels'\n",
    "                        \n",
    "                elif anno['label'] == '보행자_보행자':\n",
    "                    ET.SubElement(c_object, 'name').text = 'person'\n",
    "                    \n",
    "                elif anno['label'] == '신호등_적색' or '신호등_황색' or '신호등_녹색' or '신호등_화살표' or '신호등_적색&화살표' or '신호등_황색&화살표' or '신호등_녹색&화살표' or '신호등':\n",
    "                    ET.SubElement(c_object, 'name').text = 'traffic_light'\n",
    "                else :pass\n",
    "                \n",
    "                ET.SubElement(c_object, 'pose').text = 'Unspectified'\n",
    "                ET.SubElement(c_object, 'truncated').text = '0'\n",
    "                ET.SubElement(c_object, 'difficult').text = '0'\n",
    "  \n",
    "                if  'bbox' not in anno.keys() :\n",
    "                    pass\n",
    "                \n",
    "                else :\n",
    "                    \n",
    "                    points = np.array(anno['bbox'])\n",
    "                    rpoints = np.reshape(points,-1)\n",
    "                        \n",
    "                    \n",
    "                    x = rpoints[0]\n",
    "                    y = rpoints[1]\n",
    "                                        \n",
    "                    x_min = x\n",
    "                    x_max = x + rpoints[2]\n",
    "                                        \n",
    "                    y_min = y\n",
    "                    y_max = y + rpoints[3]          \n",
    "                        \n",
    "                \n",
    "                    bbox = ET.SubElement(c_object, 'bnbox')\n",
    "                    ET.SubElement(bbox, 'xmin').text = str(x_min)\n",
    "                    ET.SubElement(bbox, 'ymin').text = str(y_min)\n",
    "                    ET.SubElement(bbox, 'xmax').text = str(x_max)\n",
    "                    ET.SubElement(bbox, 'ymax').text = str(y_max)\n",
    "                _\n",
    "            tree = ET.ElementTree(xml_root)\n",
    "            tree.write(os.path.join(os.getcwd(), root, Image[:-4] + '.xml'))  \n",
    "\n",
    "        "
   ]
  },
  {
   "cell_type": "code",
   "execution_count": null,
   "metadata": {},
   "outputs": [],
   "source": [
    "z"
   ]
  },
  {
   "cell_type": "code",
   "execution_count": null,
   "metadata": {},
   "outputs": [],
   "source": [
    "k"
   ]
  },
  {
   "cell_type": "code",
   "execution_count": null,
   "metadata": {},
   "outputs": [],
   "source": []
  },
  {
   "cell_type": "code",
   "execution_count": null,
   "metadata": {},
   "outputs": [],
   "source": [
    "json_file = json_file.replace('','')\n"
   ]
  },
  {
   "cell_type": "code",
   "execution_count": null,
   "metadata": {},
   "outputs": [],
   "source": [
    "json_file"
   ]
  },
  {
   "cell_type": "code",
   "execution_count": null,
   "metadata": {},
   "outputs": [],
   "source": []
  }
 ],
 "metadata": {
  "interpreter": {
   "hash": "f23faf4bfe871c203c8bec80520af5927fc7cb1ae3bd834ddf554ee587ad1c05"
  },
  "kernelspec": {
   "display_name": "Python 3 (ipykernel)",
   "language": "python",
   "name": "python3"
  },
  "language_info": {
   "codemirror_mode": {
    "name": "ipython",
    "version": 3
   },
   "file_extension": ".py",
   "mimetype": "text/x-python",
   "name": "python",
   "nbconvert_exporter": "python",
   "pygments_lexer": "ipython3",
   "version": "3.9.7"
  }
 },
 "nbformat": 4,
 "nbformat_minor": 4
}
