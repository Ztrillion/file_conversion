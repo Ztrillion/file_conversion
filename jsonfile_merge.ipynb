{
 "cells": [
  {
   "cell_type": "code",
   "execution_count": null,
   "id": "0d3ee2e9",
   "metadata": {},
   "outputs": [],
   "source": [
    "import json\n",
    "import os\n",
    "\n",
    "path = './annotations/train'\n",
    "train_files = os.listdir(path)\n",
    "output_list = []\n",
    "\n",
    "for f in train_files:\n",
    "    with open(path+'/'+f,'rb') as infile:\n",
    "        output_list.append(json.load(infile))    \n",
    "\n",
    "final_json = {}\n",
    "images= []\n",
    "annotations = []\n",
    "categories = []\n",
    "\n",
    "for json_file in output_list:\n",
    "    images.extend(json_file['images'])\n",
    "    annotations.extend(json_file['annotations'])\n",
    "    categories.extend(json_file['categories'])\n",
    "\n",
    "final_json['images'] = images\n",
    "final_json['annotations'] = annotations\n",
    "final_json['categories'] = categories\n",
    "  \n",
    "textfile_merged = open('merged_json.json', 'w')                                                                                                                                                                     \n",
    "json.dump(({ \"images\": images, \"annotations\" : annotations,\"categories\" : categories }),textfile_merged)\n",
    "textfile_merged.close()"
   ]
  },
  {
   "cell_type": "code",
   "execution_count": null,
   "id": "59decfd3",
   "metadata": {},
   "outputs": [],
   "source": [
    "import json\n",
    "with open('./merged_json.json', \"r\", encoding='utf-8') as f:\n",
    "    contents=f.read()\n",
    "    json_data=json.loads(contents)\n",
    "\n",
    "print(json_data)"
   ]
  }
 ],
 "metadata": {
  "kernelspec": {
   "display_name": "Python 3 (ipykernel)",
   "language": "python",
   "name": "python3"
  },
  "language_info": {
   "codemirror_mode": {
    "name": "ipython",
    "version": 3
   },
   "file_extension": ".py",
   "mimetype": "text/x-python",
   "name": "python",
   "nbconvert_exporter": "python",
   "pygments_lexer": "ipython3",
   "version": "3.8.10"
  }
 },
 "nbformat": 4,
 "nbformat_minor": 5
}
